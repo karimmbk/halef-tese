{
 "cells": [
  {
   "cell_type": "markdown",
   "source": [
    "# Comprehensive Analysis of Rental Property Data Using Linear Regression\n",
    "\n",
    "This notebook aims to explore the dynamics of rental prices using linear regression analysis. The dataset comprises rental property listings from 2018 to 2023, including features such as location, size, amenities, and price. Our goal is to identify significant predictors of rental prices and understand the impact of various property features on price. This analysis will provide insights into the rental market, aiding investors, real estate professionals, and policy-makers in making informed decisions."
   ],
   "metadata": {
    "collapsed": false
   }
  },
  {
   "cell_type": "code",
   "execution_count": null,
   "metadata": {
    "collapsed": false
   },
   "outputs": [],
   "source": [
    "# Load necessary libraries\n",
    "library(tidyverse)\n",
    "\n",
    "# Reading the dataset\n",
    "data_rent <- read.csv(\"./rent_merge_2018_2023.csv\", dec = \",\", header = TRUE, sep = \";\")\n",
    "# Convert categorical variables to factors (dummy variables)\n",
    "categorical_vars <- c('gym', 'field_quadra', 'elevator', 'furnished', 'swimming_pool')\n",
    "data_rent[categorical_vars] <- lapply(data_rent[categorical_vars], as.factor)\n",
    "\n",
    "# Quick summary to check the conversion\n",
    "summary(data_rent[categorical_vars])"
   ]
  },
  {
   "cell_type": "markdown",
   "metadata": {
    "id": "cTSbgY539t4f"
   },
   "source": [
    "### Dataset Overview\n",
    "\n",
    "The dataset, `rent_merge_2018_2023.csv`, includes detailed listings of rental properties. Key variables include square footage, number of bedrooms and bathrooms, presence of amenities (gym, swimming pool, furnished status), and rental price. We will preprocess the data to handle categorical variables appropriately and ensure it is ready for linear regression analysis."
   ]
  },
  {
   "cell_type": "code",
   "execution_count": null,
   "metadata": {
    "id": "M67y0lvBwRo5"
   },
   "outputs": [],
   "source": [
    "data_rent <- read.csv(\"./rent_merge_2018_2023.csv\", dec = \",\", header = T, sep = \";\")"
   ]
  },
  {
   "cell_type": "markdown",
   "metadata": {
    "id": "GXkt_hv69ch5"
   },
   "source": [
    "### Preprocessing: Handling Categorical Variables\n",
    "\n",
    "In preparation for linear regression, it's crucial to convert categorical variables into a format that can be utilized in the model. We treat amenities such as gyms, swimming pools, and furnishing status as dummy variables (0 or 1) to indicate their absence or presence. This conversion allows us to quantify their impact on rental prices effectively."
   ]
  },
  {
   "cell_type": "code",
   "execution_count": null,
   "metadata": {
    "id": "pN_sUU9b9UTr"
   },
   "outputs": [],
   "source": [
    "data_rent$gym <- as.factor(data_rent$gym)\n",
    "data_rent$field_quadra <- as.factor(data_rent$field_quadra)\n",
    "data_rent$elevator <- as.factor(data_rent$elevator)\n",
    "data_rent$furnished <- as.factor(data_rent$furnished)\n",
    "data_rent$swimming_pool <- as.factor(data_rent$swimming_pool)"
   ]
  },
  {
   "cell_type": "markdown",
   "metadata": {
    "id": "676-fZnQ98KY"
   },
   "source": [
    "### Treating the date column"
   ]
  },
  {
   "cell_type": "code",
   "execution_count": null,
   "metadata": {
    "id": "7CwkeIb662b6"
   },
   "outputs": [],
   "source": [
    "data_rent$date <- as.Date(data_rent$date, format = \"%d/%m/%Y\")"
   ]
  },
  {
   "cell_type": "code",
   "execution_count": null,
   "metadata": {
    "id": "m6oGITbNx1er"
   },
   "outputs": [],
   "source": [
    "data_rent$date <- as.Date(data_rent$date, format = \"%d/%m/%Y\")"
   ]
  },
  {
   "cell_type": "markdown",
   "metadata": {
    "id": "QayeFylW-F9O"
   },
   "source": [
    "### Filtering the years"
   ]
  },
  {
   "cell_type": "code",
   "execution_count": null,
   "metadata": {
    "id": "gqWeKdYK6tej"
   },
   "outputs": [],
   "source": [
    "data_2018 <- filter(data_rent, year(date) == 2018)"
   ]
  },
  {
   "cell_type": "code",
   "execution_count": null,
   "metadata": {
    "id": "ae-cUNBE-Knl"
   },
   "outputs": [],
   "source": [
    "data_2019 <- filter(data_rent, year(date) == 2019)"
   ]
  },
  {
   "cell_type": "code",
   "execution_count": null,
   "metadata": {
    "id": "4eDHoiUJ-XxB"
   },
   "outputs": [],
   "source": [
    "data_2020 <- filter(data_rent, year(date) == 2020)"
   ]
  },
  {
   "cell_type": "code",
   "execution_count": null,
   "metadata": {
    "id": "0V6K1QCR-XFD"
   },
   "outputs": [],
   "source": [
    "data_2021 <- filter(data_rent, year(date) == 2021)"
   ]
  },
  {
   "cell_type": "code",
   "execution_count": null,
   "metadata": {
    "id": "WPncVt3v_7aH"
   },
   "outputs": [],
   "source": [
    "data_2022 <- filter(data_rent, year(date) == 2022)"
   ]
  },
  {
   "cell_type": "code",
   "execution_count": null,
   "metadata": {
    "id": "DEBSM7oVATi6"
   },
   "outputs": [],
   "source": [
    "data_2023 <- filter(data_rent, year(date) == 2023)"
   ]
  },
  {
   "cell_type": "markdown",
   "metadata": {
    "id": "bZramecV-cbp"
   },
   "source": [
    "### Multiple regression by years"
   ]
  },
  {
   "cell_type": "code",
   "execution_count": null,
   "metadata": {
    "colab": {
     "base_uri": "https://localhost:8080/",
     "height": 573
    },
    "id": "N2Lyc5tSBVRE",
    "outputId": "457a2b61-e236-4151-ef80-2e6caa3075b9"
   },
   "outputs": [],
   "source": [
    "reg <- lm(price_real_month ~ area_m2 +\n",
    "  bedrooms +\n",
    "  suite +\n",
    "  bathrooms +\n",
    "  garage +\n",
    "  condo_real +\n",
    "  metro_dist_km +\n",
    "  gym +\n",
    "  field_quadra +\n",
    "  elevator +\n",
    "  furnished +\n",
    "  swimming_pool, data = data_rent)\n",
    "summary(reg)"
   ]
  },
  {
   "cell_type": "code",
   "execution_count": null,
   "metadata": {
    "colab": {
     "base_uri": "https://localhost:8080/",
     "height": 573
    },
    "id": "x7WaosIN6zEE",
    "outputId": "57cee247-8c23-44aa-accf-12fccae58d7b"
   },
   "outputs": [],
   "source": [
    "reg_2018 <- lm(price_real_month ~ area_m2 +\n",
    "  bedrooms +\n",
    "  suite +\n",
    "  bathrooms +\n",
    "  garage +\n",
    "  condo_real +\n",
    "  metro_dist_km +\n",
    "  gym +\n",
    "  field_quadra +\n",
    "  elevator +\n",
    "  furnished +\n",
    "  swimming_pool, data = data_2018)\n",
    "summary(reg_2018)"
   ]
  },
  {
   "cell_type": "code",
   "execution_count": null,
   "metadata": {
    "colab": {
     "base_uri": "https://localhost:8080/",
     "height": 573
    },
    "id": "EfuDdJZL-ouU",
    "outputId": "9de31197-6cd3-497b-ca74-58033b97f7d9"
   },
   "outputs": [],
   "source": [
    "reg_2019 <- lm(price_real_month ~ area_m2 +\n",
    "  bedrooms +\n",
    "  suite +\n",
    "  bathrooms +\n",
    "  garage +\n",
    "  condo_real +\n",
    "  metro_dist_km +\n",
    "  gym +\n",
    "  field_quadra +\n",
    "  elevator +\n",
    "  furnished +\n",
    "  swimming_pool, data = data_2019)\n",
    "summary(reg_2019)"
   ]
  },
  {
   "cell_type": "code",
   "execution_count": null,
   "metadata": {
    "colab": {
     "base_uri": "https://localhost:8080/",
     "height": 555
    },
    "id": "4oT6R09m-xUi",
    "outputId": "a3dfb10d-0410-424d-b95a-d3dad8d26a48"
   },
   "outputs": [],
   "source": [
    "reg_2020 <- lm(price_real_month ~ area_m2 +\n",
    "  bedrooms +\n",
    "  suite +\n",
    "  bathrooms +\n",
    "  garage +\n",
    "  condo_real +\n",
    "  metro_dist_km +\n",
    "  gym +\n",
    "  field_quadra +\n",
    "  elevator +\n",
    "  furnished +\n",
    "  swimming_pool, data = data_2020)\n",
    "summary(reg_2020)"
   ]
  },
  {
   "cell_type": "code",
   "execution_count": null,
   "metadata": {
    "colab": {
     "base_uri": "https://localhost:8080/",
     "height": 555
    },
    "id": "avaKrc3I-09n",
    "outputId": "9e8574c6-c14e-4b25-e5ed-c736ab8c5592"
   },
   "outputs": [],
   "source": [
    "reg_2021 <- lm(price_real_month ~ area_m2 +\n",
    "  bedrooms +\n",
    "  suite +\n",
    "  bathrooms +\n",
    "  garage +\n",
    "  condo_real +\n",
    "  metro_dist_km +\n",
    "  gym +\n",
    "  field_quadra +\n",
    "  elevator +\n",
    "  furnished +\n",
    "  swimming_pool, data = data_2021)\n",
    "summary(reg_2021)"
   ]
  },
  {
   "cell_type": "code",
   "execution_count": null,
   "metadata": {
    "id": "TQ1BEoOuAASb"
   },
   "outputs": [],
   "source": [
    "reg_2022 <- lm(price_real_month ~ area_m2 +\n",
    "  bedrooms +\n",
    "  suite +\n",
    "  bathrooms +\n",
    "  garage +\n",
    "  condo_real +\n",
    "  metro_dist_km +\n",
    "  gym +\n",
    "  field_quadra +\n",
    "  elevator +\n",
    "  furnished +\n",
    "  swimming_pool, data = data_2022)\n",
    "summary(reg_2022)"
   ]
  },
  {
   "cell_type": "markdown",
   "metadata": {
    "id": "K1g-QNGnJS_Y"
   },
   "source": [
    "### Plot graphs removing outlier using IQR to do it"
   ]
  },
  {
   "cell_type": "code",
   "execution_count": null,
   "metadata": {
    "colab": {
     "base_uri": "https://localhost:8080/",
     "height": 454
    },
    "id": "fZ9XF6IOKUKt",
    "outputId": "c0345fe0-8da4-4942-be10-1c64dead8f47"
   },
   "outputs": [],
   "source": [
    "# Calculate the interquartile range (IQR) for both area_m2 and price_real_month\n",
    "data <- data_rent\n",
    "Q1_area <- quantile(data$area_m2, 0.25)\n",
    "Q3_area <- quantile(data$area_m2, 0.75)\n",
    "IQR_area <- Q3_area - Q1_area\n",
    "\n",
    "Q1_price <- quantile(data$price_real_month, 0.25)\n",
    "Q3_price <- quantile(data$price_real_month, 0.75)\n",
    "IQR_price <- Q3_price - Q1_price\n",
    "\n",
    "# Define the upper and lower bounds for outliers\n",
    "upper_bound_area <- Q3_area + 1.5 * IQR_area\n",
    "lower_bound_area <- Q1_area - 1.5 * IQR_area\n",
    "\n",
    "upper_bound_price <- Q3_price + 1.5 * IQR_price\n",
    "lower_bound_price <- Q1_price - 1.5 * IQR_price\n",
    "\n",
    "# Filter out the outliers in both area_m2 and price_real_month\n",
    "data_filtered <- subset(data, area_m2 >= lower_bound_area &\n",
    "  area_m2 <= upper_bound_area &\n",
    "  price_real_month >= lower_bound_price &\n",
    "  price_real_month <= upper_bound_price)\n",
    "\n",
    "# Set the limits for the x-axis and y-axis based on filtered data\n",
    "x_min <- min(data_filtered$area_m2)\n",
    "x_max <- max(data_filtered$area_m2)\n",
    "y_min <- min(data_filtered$price_real_month)\n",
    "y_max <- max(data_filtered$price_real_month)\n",
    "\n",
    "# Generate the plot with filtered data and adjusted x-axis and y-axis limits\n",
    "ggplot(data_filtered, aes(x = area_m2, y = price_real_month)) +\n",
    "  geom_point() +\n",
    "  geom_smooth(method = \"auto\", se = FALSE) +\n",
    "  labs(title = \"Scatterplot with Automatic Trend Curve\",\n",
    "       x = \"Area (m^2)\",\n",
    "       y = \"Price (R$ per month)\") +\n",
    "  xlim(x_min, x_max) +\n",
    "  ylim(y_min, y_max)"
   ]
  }
 ],
 "metadata": {
  "accelerator": "GPU",
  "colab": {
   "collapsed_sections": [
    "cTSbgY539t4f",
    "GXkt_hv69ch5",
    "676-fZnQ98KY",
    "QayeFylW-F9O",
    "bZramecV-cbp"
   ],
   "gpuType": "T4",
   "provenance": []
  },
  "kernelspec": {
   "display_name": "R",
   "language": "R",
   "name": "ir"
  },
  "language_info": {
   "name": "R"
  }
 },
 "nbformat": 4,
 "nbformat_minor": 0
}
