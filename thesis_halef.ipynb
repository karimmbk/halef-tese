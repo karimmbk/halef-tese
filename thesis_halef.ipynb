{
 "cells": [
  {
   "cell_type": "markdown",
   "source": [
    "# Comprehensive Analysis of Rental Property Data Using Linear Regression\n",
    "\n",
    "This notebook aims to explore the dynamics of rental prices using linear regression analysis. The dataset comprises rental property listings from 2018 to 2023, including features such as location, size, amenities, and price. Our goal is to identify significant predictors of rental prices and understand the impact of various property features on price. This analysis will provide insights into the rental market, aiding investors, real estate professionals, and policy-makers in making informed decisions."
   ],
   "metadata": {
    "collapsed": false
   }
  },
  {
   "cell_type": "code",
   "outputs": [],
   "source": [
    "# Load necessary libraries\n",
    "library(tidyverse)\n",
    "library(ggplot2)\n",
    "library(gridExtra)\n",
    "library(cowplot)"
   ],
   "metadata": {
    "collapsed": false
   },
   "execution_count": null
  },
  {
   "cell_type": "code",
   "execution_count": null,
   "metadata": {
    "collapsed": false
   },
   "outputs": [],
   "source": [
    "# Reading the dataset\n",
    "data_rent <- read.csv(\"./rent_merge_2018_2023.csv\", dec = \",\", header = TRUE, sep = \";\")\n",
    "# Convert categorical variables to factors (dummy variables)\n",
    "categorical_vars <- c('gym', 'field_quadra', 'elevator', 'furnished', 'swimming_pool')\n",
    "data_rent[categorical_vars] <- lapply(data_rent[categorical_vars], as.factor)\n",
    "\n",
    "# Quick summary to check the conversion\n",
    "summary(data_rent[categorical_vars])"
   ]
  },
  {
   "cell_type": "markdown",
   "metadata": {
    "id": "cTSbgY539t4f"
   },
   "source": [
    "### Dataset Overview\n",
    "\n",
    "The dataset, `rent_merge_2018_2023.csv`, includes detailed listings of rental properties. Key variables include square footage, number of bedrooms and bathrooms, presence of amenities (gym, swimming pool, furnished status), and rental price. We will preprocess the data to handle categorical variables appropriately and ensure it is ready for linear regression analysis."
   ]
  },
  {
   "cell_type": "code",
   "execution_count": null,
   "metadata": {
    "id": "M67y0lvBwRo5"
   },
   "outputs": [],
   "source": [
    "data_rent <- read.csv(\"./rent_merge_2018_2023.csv\", dec = \",\", header = T, sep = \";\")"
   ]
  },
  {
   "cell_type": "markdown",
   "metadata": {
    "id": "GXkt_hv69ch5"
   },
   "source": [
    "### Preprocessing: Handling Categorical Variables\n",
    "\n",
    "In preparation for linear regression, it's crucial to convert categorical variables into a format that can be utilized in the model. We treat amenities such as gyms, swimming pools, and furnishing status as dummy variables (0 or 1) to indicate their absence or presence. This conversion allows us to quantify their impact on rental prices effectively."
   ]
  },
  {
   "cell_type": "code",
   "execution_count": null,
   "metadata": {
    "id": "pN_sUU9b9UTr"
   },
   "outputs": [],
   "source": [
    "data_rent$gym <- as.factor(data_rent$gym)\n",
    "data_rent$field_quadra <- as.factor(data_rent$field_quadra)\n",
    "data_rent$elevator <- as.factor(data_rent$elevator)\n",
    "data_rent$furnished <- as.factor(data_rent$furnished)\n",
    "data_rent$swimming_pool <- as.factor(data_rent$swimming_pool)"
   ]
  },
  {
   "cell_type": "markdown",
   "metadata": {
    "id": "676-fZnQ98KY"
   },
   "source": [
    "### Treating the date column"
   ]
  },
  {
   "cell_type": "code",
   "execution_count": null,
   "metadata": {
    "id": "7CwkeIb662b6"
   },
   "outputs": [],
   "source": [
    "data_rent$date <- as.Date(data_rent$date, format = \"%d/%m/%Y\")"
   ]
  },
  {
   "cell_type": "code",
   "execution_count": null,
   "metadata": {
    "id": "m6oGITbNx1er"
   },
   "outputs": [],
   "source": [
    "data_rent$date <- as.Date(data_rent$date, format = \"%d/%m/%Y\")"
   ]
  },
  {
   "cell_type": "markdown",
   "metadata": {
    "id": "QayeFylW-F9O"
   },
   "source": [
    "### Filtering the years"
   ]
  },
  {
   "cell_type": "code",
   "execution_count": null,
   "metadata": {
    "id": "gqWeKdYK6tej"
   },
   "outputs": [],
   "source": [
    "data_2018 <- filter(data_rent, year(date) == 2018)\n",
    "data_2019 <- filter(data_rent, year(date) == 2019)\n",
    "data_2020 <- filter(data_rent, year(date) == 2020)\n",
    "data_2021 <- filter(data_rent, year(date) == 2021)\n",
    "data_2022 <- filter(data_rent, year(date) == 2022)\n",
    "data_2023 <- filter(data_rent, year(date) == 2023)"
   ]
  },
  {
   "cell_type": "markdown",
   "metadata": {
    "id": "bZramecV-cbp"
   },
   "source": [
    "### Multiple regression by years"
   ]
  },
  {
   "cell_type": "code",
   "execution_count": null,
   "metadata": {
    "colab": {
     "base_uri": "https://localhost:8080/",
     "height": 573
    },
    "id": "N2Lyc5tSBVRE",
    "outputId": "457a2b61-e236-4151-ef80-2e6caa3075b9"
   },
   "outputs": [],
   "source": [
    "params <- (price_real_month ~\n",
    "  area_m2 +\n",
    "    bedrooms +\n",
    "    suite +\n",
    "    bathrooms +\n",
    "    garage +\n",
    "    condo_real +\n",
    "    metro_dist_km +\n",
    "    gym +\n",
    "    field_quadra +\n",
    "    elevator +\n",
    "    furnished +\n",
    "    swimming_pool)\n",
    "reg <- lm(params, data = data_rent)\n",
    "reg_2018 <- lm(params, data = data_2018)\n",
    "reg_2019 <- lm(params, data = data_2019)\n",
    "reg_2020 <- lm(params, data = data_2020)\n",
    "reg_2021 <- lm(params, data = data_2021)\n",
    "reg_2022 <- lm(params, data = data_2022)"
   ]
  },
  {
   "cell_type": "markdown",
   "source": [
    "### Using the IQR methodology to analyze and remove outliers"
   ],
   "metadata": {
    "collapsed": false
   }
  },
  {
   "cell_type": "code",
   "outputs": [],
   "source": [
    "remove_outliers <- function(data, col_y, desired_max_y = 0, col_price = \"price_real_month\", desired_max_price = 0, default_multiplier = 1.5) {\n",
    "  # Calculate the IQR for area and price\n",
    "  Q1_y <- quantile(data[[col_y]], 0.25)\n",
    "  Q3_y <- quantile(data[[col_y]], 0.75)\n",
    "  IQR_y <- Q3_y - Q1_y\n",
    "\n",
    "  Q1_price <- quantile(data[[col_price]], 0.25)\n",
    "  Q3_price <- quantile(data[[col_price]], 0.75)\n",
    "  IQR_price <- Q3_price - Q1_price\n",
    "\n",
    "  # Calculate custom multipliers based on the desired maximum values\n",
    "  multiplier_y <- (desired_max_y - Q3_y) / IQR_y\n",
    "  multiplier_price <- (desired_max_price - Q3_price) / IQR_price\n",
    "\n",
    "  # Use the larger of the calculated multipliers or the default 1.5, whichever is greater\n",
    "  multiplier_y <- max(multiplier_y, default_multiplier)\n",
    "  multiplier_price <- max(multiplier_price, default_multiplier)\n",
    "\n",
    "  # Define the upper bounds using the custom or default multipliers\n",
    "  upper_bound_y <- Q3_y + multiplier_y * IQR_y\n",
    "  upper_bound_price <- Q3_price + multiplier_price * IQR_price\n",
    "\n",
    "  # Define the lower bounds\n",
    "  lower_bound_y <- Q1_y - multiplier_y * IQR_y\n",
    "  lower_bound_price <- Q1_price - multiplier_price * IQR_price\n",
    "\n",
    "  # Filter out the outliers\n",
    "  data_filtered <- subset(data, data[[col_y]] >= lower_bound_y &\n",
    "    data[[col_y]] <= upper_bound_y &\n",
    "    data[[col_price]] >= lower_bound_price &\n",
    "    data[[col_price]] <= upper_bound_price)\n",
    "\n",
    "  return(data_filtered)\n",
    "}\n"
   ],
   "metadata": {
    "collapsed": false
   },
   "execution_count": null
  },
  {
   "cell_type": "markdown",
   "source": [
    "### Analysis with and without outlier"
   ],
   "metadata": {
    "collapsed": false
   }
  },
  {
   "cell_type": "code",
   "outputs": [],
   "source": [
    "# Plot the boxplots for area_m2 before and after outlier removal\n",
    "par(mfrow = c(2, 2)) # Set up the plotting area to have 2 rows and 2 columns\n",
    "\n",
    "# filtering outliers\n",
    "data_filtered <- remove_outliers(data = data_rent, col_y = \"area_m2\", desired_max_y = 500, desired_max_price = 15000)\n",
    "\n",
    "# Area before outlier removal\n",
    "boxplot(data_rent$area_m2, main = \"Area (m²) Before Outlier Removal\", horizontal = TRUE, col = \"blue\")\n",
    "# Price before outlier removal\n",
    "boxplot(data_rent$price_real_month, main = \"Price (R$/month) Before Outlier Removal\", horizontal = TRUE, col = \"red\")\n",
    "\n",
    "# Area after outlier removal\n",
    "boxplot(data_filtered$area_m2, main = \"Area (m²) After Outlier Removal\", horizontal = TRUE, col = \"blue\")\n",
    "\n",
    "# Price after outlier removal\n",
    "boxplot(data_filtered$price_real_month, main = \"Price (R$/month) After Outlier Removal\", horizontal = TRUE, col = \"red\")"
   ],
   "metadata": {
    "collapsed": false
   },
   "execution_count": null
  },
  {
   "cell_type": "markdown",
   "metadata": {
    "id": "K1g-QNGnJS_Y"
   },
   "source": [
    "### Plot graphs removing outlier using IQR to do it"
   ]
  },
  {
   "cell_type": "code",
   "outputs": [],
   "source": [
    "# Plot for original data\n",
    "p1 <- ggplot(data_rent, aes(x = area_m2, y = price_real_month)) +\n",
    "  geom_point(color = \"grey\", alpha = 0.5) +\n",
    "  labs(title = \"Original Data\",\n",
    "       x = \"Area (m²)\",\n",
    "       y = \"Price (R$/month)\") +\n",
    "  theme_light()\n",
    "\n",
    "# Plot for filtered data\n",
    "p2 <- ggplot(data_filtered, aes(x = area_m2, y = price_real_month)) +\n",
    "  geom_point(color = \"blue\") +\n",
    "  geom_smooth(method = \"auto\", se = FALSE, color = \"blue\") +\n",
    "  labs(title = \"Filtered Data (Outliers Removed)\",\n",
    "       x = \"Area (m²)\",\n",
    "       y = \"Price (R$/month)\") +\n",
    "  theme_light()\n",
    "\n",
    "# Arrange the plots side by side\n",
    "grid.arrange(p1, p2, ncol = 2)\n"
   ],
   "metadata": {
    "collapsed": false
   },
   "execution_count": null
  },
  {
   "cell_type": "code",
   "outputs": [],
   "source": [
    "# Plot the boxplots for bedrooms before and after outlier removal\n",
    "par(mfrow = c(2, 2)) # Set up the plotting area to have 2 rows and 2 columns\n",
    "\n",
    "# filtering outliers\n",
    "data_filtered <- remove_outliers(data = data_rent, col_y = \"bedrooms\", desired_max_y = 4, desired_max_price = 15000)\n",
    "\n",
    "# Number of bedrooms before outlier removal\n",
    "boxplot(data_rent$bedrooms, main = \"Number of bedrooms Before Outlier Removal\", horizontal = TRUE, col = \"blue\")\n",
    "\n",
    "# Price before outlier removal\n",
    "boxplot(data_rent$price_real_month, main = \"Price (R$/month) Before Outlier Removal\", horizontal = TRUE, col = \"red\")\n",
    "\n",
    "# Number of bedrooms after outlier removal\n",
    "boxplot(data_filtered$bedrooms, main = \"Number of bedrooms After Outlier Removal\", horizontal = TRUE, col = \"blue\")\n",
    "\n",
    "# Price after outlier removal\n",
    "boxplot(data_filtered$price_real_month, main = \"Price (R$/month) After Outlier Removal\", horizontal = TRUE, col = \"red\")"
   ],
   "metadata": {
    "collapsed": false
   },
   "execution_count": null
  },
  {
   "cell_type": "code",
   "outputs": [],
   "source": [
    "# Plot for original data\n",
    "p1 <- ggplot(data_rent, aes(x = bedrooms, y = price_real_month)) +\n",
    "  geom_point(color = \"grey\", alpha = 0.5) +\n",
    "  labs(title = \"Original Data\",\n",
    "       x = \"Nº of bedrooms\",\n",
    "       y = \"Price (R$/month)\") +\n",
    "  theme_light()\n",
    "\n",
    "# Plot for filtered data\n",
    "p2 <- ggplot(data_filtered, aes(x = bedrooms, y = price_real_month)) +\n",
    "  geom_point(color = \"blue\") +\n",
    "  geom_smooth(method = \"auto\", se = FALSE, color = \"blue\") +\n",
    "  labs(title = \"Filtered Data (Outliers Removed)\",\n",
    "       x = \"Nº of bedrooms\",\n",
    "       y = \"Price (R$/month)\") +\n",
    "  theme_light()\n",
    "\n",
    "# Arrange the plots side by side\n",
    "grid.arrange(p1, p2, ncol = 2)"
   ],
   "metadata": {
    "collapsed": false
   },
   "execution_count": null
  }
 ],
 "metadata": {
  "accelerator": "GPU",
  "colab": {
   "collapsed_sections": [
    "cTSbgY539t4f",
    "GXkt_hv69ch5",
    "676-fZnQ98KY",
    "QayeFylW-F9O",
    "bZramecV-cbp"
   ],
   "gpuType": "T4",
   "provenance": []
  },
  "kernelspec": {
   "display_name": "R",
   "language": "R",
   "name": "ir"
  },
  "language_info": {
   "name": "R"
  }
 },
 "nbformat": 4,
 "nbformat_minor": 0
}
